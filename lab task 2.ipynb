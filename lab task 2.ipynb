{
 "cells": [
  {
   "cell_type": "markdown",
   "id": "5c840214",
   "metadata": {},
   "source": []
  },
  {
   "cell_type": "code",
   "execution_count": 4,
   "id": "26854922",
   "metadata": {},
   "outputs": [
    {
     "name": "stdout",
     "output_type": "stream",
     "text": [
      "Average budget: 166,687,515.25\n",
      "High budget films:\n",
      "Pirates of the Caribbean: On Stranger Tides - 212,312,484.75 above average\n",
      "Avengers: Age of Ultron - 198,312,484.75 above average\n",
      "Avengers: Endgame - 189,312,484.75 above average\n",
      "Incredibles 2 - 33,312,484.75 above average\n",
      "Number of movies above average budget: 4\n"
     ]
    }
   ],
   "source": [
    "movies = [\n",
    "    (\"Eternal Sunshine of the Spotless Mind\", 20000000),\n",
    "    (\"Memento\", 9000000),\n",
    "    (\"Requiem for a Dream\", 4500000),\n",
    "    (\"Pirates of the Caribbean: On Stranger Tides\", 379000000),\n",
    "    (\"Avengers: Age of Ultron\", 365000000),\n",
    "    (\"Avengers: Endgame\", 356000000),\n",
    "    (\"Incredibles 2\", 200000000)\n",
    "]\n",
    "\n",
    "num= int(input(\"Number of movies you want to add? \"))\n",
    "for i in range(num):\n",
    "    name = input(\"Enter movie name: \")\n",
    "    budget = int(input(\"Enter movie budget: \"))\n",
    "    movies.append((name, budget))\n",
    "\n",
    "total_budget = sum(movie[1] for movie in movies)\n",
    "average_budget = total_budget / len(movies)\n",
    "\n",
    "high_budget = [(movie[0], movie[1] - average_budget) for movie in movies if movie[1] > average_budget]\n",
    "\n",
    "print(f\"Average budget: {average_budget:,.2f}\")\n",
    "print(\"High budget films:\")\n",
    "for film in high_budget:\n",
    "    print(f\"{film[0]} - {film[1]:,.2f} above average\")\n",
    "print(f\"Number of movies above average budget: {len(high_budget)}\")\n"
   ]
  }
 ],
 "metadata": {
  "kernelspec": {
   "display_name": "Python 3",
   "language": "python",
   "name": "python3"
  },
  "language_info": {
   "codemirror_mode": {
    "name": "ipython",
    "version": 3
   },
   "file_extension": ".py",
   "mimetype": "text/x-python",
   "name": "python",
   "nbconvert_exporter": "python",
   "pygments_lexer": "ipython3",
   "version": "3.11.9"
  }
 },
 "nbformat": 4,
 "nbformat_minor": 5
}
